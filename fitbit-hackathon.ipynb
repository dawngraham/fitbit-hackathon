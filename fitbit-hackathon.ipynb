{
 "cells": [
  {
   "cell_type": "markdown",
   "metadata": {},
   "source": [
    "# Fitbit Hackathon\n",
    "> Authors: [Dawn Graham](https://dawngraham.github.io/) and [Jacopo Cecchi](https://github.com/jjjjjjjjjj12)"
   ]
  },
  {
   "cell_type": "markdown",
   "metadata": {},
   "source": [
    "## Description\n",
    "\n",
    "Our feature does the following:\n",
    "- Allows the user to set a daily step goal.\n",
    "- Updates the user on how many more steps they need to meet their goal OR how many steps over their goal they have taken.\n",
    "- Tells the user if they met their goal multiple consecutive days.\n",
    "- Suggests the user update their goal if they have met it at least 5 days in a row.\n",
    "\n",
    "### Future Developments\n",
    "- The `get_update` function is built to allow a specific `feature` (such as steps, miles, or calories) to be defined. Currently, only steps are accounted for, but this could be expanded.\n",
    "- With live data synched to an account, `user_id` and `today` would not necessarily need to be  defined in the `get_update` function."
   ]
  },
  {
   "cell_type": "markdown",
   "metadata": {},
   "source": [
    "## Set Up Area"
   ]
  },
  {
   "cell_type": "code",
   "execution_count": 1,
   "metadata": {},
   "outputs": [],
   "source": [
    "# Import libraries\n",
    "import pandas as pd\n",
    "import numpy as np\n",
    "import datetime as dt\n",
    "\n",
    "import matplotlib.pyplot as plt\n",
    "\n",
    "%matplotlib inline"
   ]
  },
  {
   "cell_type": "code",
   "execution_count": 2,
   "metadata": {},
   "outputs": [
    {
     "data": {
      "text/html": [
       "<div>\n",
       "<style scoped>\n",
       "    .dataframe tbody tr th:only-of-type {\n",
       "        vertical-align: middle;\n",
       "    }\n",
       "\n",
       "    .dataframe tbody tr th {\n",
       "        vertical-align: top;\n",
       "    }\n",
       "\n",
       "    .dataframe thead th {\n",
       "        text-align: right;\n",
       "    }\n",
       "</style>\n",
       "<table border=\"1\" class=\"dataframe\">\n",
       "  <thead>\n",
       "    <tr style=\"text-align: right;\">\n",
       "      <th></th>\n",
       "      <th>Id</th>\n",
       "      <th>ActivityDate</th>\n",
       "      <th>TotalSteps</th>\n",
       "      <th>TotalDistance</th>\n",
       "      <th>TrackerDistance</th>\n",
       "      <th>LoggedActivitiesDistance</th>\n",
       "      <th>VeryActiveDistance</th>\n",
       "      <th>ModeratelyActiveDistance</th>\n",
       "      <th>LightActiveDistance</th>\n",
       "      <th>SedentaryActiveDistance</th>\n",
       "      <th>VeryActiveMinutes</th>\n",
       "      <th>FairlyActiveMinutes</th>\n",
       "      <th>LightlyActiveMinutes</th>\n",
       "      <th>SedentaryMinutes</th>\n",
       "      <th>Calories</th>\n",
       "    </tr>\n",
       "    <tr>\n",
       "      <th>ActivityDate</th>\n",
       "      <th></th>\n",
       "      <th></th>\n",
       "      <th></th>\n",
       "      <th></th>\n",
       "      <th></th>\n",
       "      <th></th>\n",
       "      <th></th>\n",
       "      <th></th>\n",
       "      <th></th>\n",
       "      <th></th>\n",
       "      <th></th>\n",
       "      <th></th>\n",
       "      <th></th>\n",
       "      <th></th>\n",
       "      <th></th>\n",
       "    </tr>\n",
       "  </thead>\n",
       "  <tbody>\n",
       "    <tr>\n",
       "      <th>2016-04-12</th>\n",
       "      <td>1503960366</td>\n",
       "      <td>2016-04-12</td>\n",
       "      <td>13162</td>\n",
       "      <td>8.50</td>\n",
       "      <td>8.50</td>\n",
       "      <td>0.0</td>\n",
       "      <td>1.88</td>\n",
       "      <td>0.55</td>\n",
       "      <td>6.06</td>\n",
       "      <td>0.0</td>\n",
       "      <td>25</td>\n",
       "      <td>13</td>\n",
       "      <td>328</td>\n",
       "      <td>728</td>\n",
       "      <td>1985</td>\n",
       "    </tr>\n",
       "    <tr>\n",
       "      <th>2016-04-13</th>\n",
       "      <td>1503960366</td>\n",
       "      <td>2016-04-13</td>\n",
       "      <td>10735</td>\n",
       "      <td>6.97</td>\n",
       "      <td>6.97</td>\n",
       "      <td>0.0</td>\n",
       "      <td>1.57</td>\n",
       "      <td>0.69</td>\n",
       "      <td>4.71</td>\n",
       "      <td>0.0</td>\n",
       "      <td>21</td>\n",
       "      <td>19</td>\n",
       "      <td>217</td>\n",
       "      <td>776</td>\n",
       "      <td>1797</td>\n",
       "    </tr>\n",
       "    <tr>\n",
       "      <th>2016-04-14</th>\n",
       "      <td>1503960366</td>\n",
       "      <td>2016-04-14</td>\n",
       "      <td>10460</td>\n",
       "      <td>6.74</td>\n",
       "      <td>6.74</td>\n",
       "      <td>0.0</td>\n",
       "      <td>2.44</td>\n",
       "      <td>0.40</td>\n",
       "      <td>3.91</td>\n",
       "      <td>0.0</td>\n",
       "      <td>30</td>\n",
       "      <td>11</td>\n",
       "      <td>181</td>\n",
       "      <td>1218</td>\n",
       "      <td>1776</td>\n",
       "    </tr>\n",
       "    <tr>\n",
       "      <th>2016-04-15</th>\n",
       "      <td>1503960366</td>\n",
       "      <td>2016-04-15</td>\n",
       "      <td>9762</td>\n",
       "      <td>6.28</td>\n",
       "      <td>6.28</td>\n",
       "      <td>0.0</td>\n",
       "      <td>2.14</td>\n",
       "      <td>1.26</td>\n",
       "      <td>2.83</td>\n",
       "      <td>0.0</td>\n",
       "      <td>29</td>\n",
       "      <td>34</td>\n",
       "      <td>209</td>\n",
       "      <td>726</td>\n",
       "      <td>1745</td>\n",
       "    </tr>\n",
       "    <tr>\n",
       "      <th>2016-04-16</th>\n",
       "      <td>1503960366</td>\n",
       "      <td>2016-04-16</td>\n",
       "      <td>12669</td>\n",
       "      <td>8.16</td>\n",
       "      <td>8.16</td>\n",
       "      <td>0.0</td>\n",
       "      <td>2.71</td>\n",
       "      <td>0.41</td>\n",
       "      <td>5.04</td>\n",
       "      <td>0.0</td>\n",
       "      <td>36</td>\n",
       "      <td>10</td>\n",
       "      <td>221</td>\n",
       "      <td>773</td>\n",
       "      <td>1863</td>\n",
       "    </tr>\n",
       "  </tbody>\n",
       "</table>\n",
       "</div>"
      ],
      "text/plain": [
       "                      Id ActivityDate  TotalSteps  TotalDistance  \\\n",
       "ActivityDate                                                       \n",
       "2016-04-12    1503960366   2016-04-12       13162           8.50   \n",
       "2016-04-13    1503960366   2016-04-13       10735           6.97   \n",
       "2016-04-14    1503960366   2016-04-14       10460           6.74   \n",
       "2016-04-15    1503960366   2016-04-15        9762           6.28   \n",
       "2016-04-16    1503960366   2016-04-16       12669           8.16   \n",
       "\n",
       "              TrackerDistance  LoggedActivitiesDistance  VeryActiveDistance  \\\n",
       "ActivityDate                                                                  \n",
       "2016-04-12               8.50                       0.0                1.88   \n",
       "2016-04-13               6.97                       0.0                1.57   \n",
       "2016-04-14               6.74                       0.0                2.44   \n",
       "2016-04-15               6.28                       0.0                2.14   \n",
       "2016-04-16               8.16                       0.0                2.71   \n",
       "\n",
       "              ModeratelyActiveDistance  LightActiveDistance  \\\n",
       "ActivityDate                                                  \n",
       "2016-04-12                        0.55                 6.06   \n",
       "2016-04-13                        0.69                 4.71   \n",
       "2016-04-14                        0.40                 3.91   \n",
       "2016-04-15                        1.26                 2.83   \n",
       "2016-04-16                        0.41                 5.04   \n",
       "\n",
       "              SedentaryActiveDistance  VeryActiveMinutes  FairlyActiveMinutes  \\\n",
       "ActivityDate                                                                    \n",
       "2016-04-12                        0.0                 25                   13   \n",
       "2016-04-13                        0.0                 21                   19   \n",
       "2016-04-14                        0.0                 30                   11   \n",
       "2016-04-15                        0.0                 29                   34   \n",
       "2016-04-16                        0.0                 36                   10   \n",
       "\n",
       "              LightlyActiveMinutes  SedentaryMinutes  Calories  \n",
       "ActivityDate                                                    \n",
       "2016-04-12                     328               728      1985  \n",
       "2016-04-13                     217               776      1797  \n",
       "2016-04-14                     181              1218      1776  \n",
       "2016-04-15                     209               726      1745  \n",
       "2016-04-16                     221               773      1863  "
      ]
     },
     "execution_count": 2,
     "metadata": {},
     "output_type": "execute_result"
    }
   ],
   "source": [
    "# Read in datasets\n",
    "activity = pd.read_csv('./data/dailyActivity_merged.csv')\n",
    "\n",
    "# Change date column to datetime and set to index\n",
    "activity['ActivityDate'] = pd.to_datetime(activity['ActivityDate'])\n",
    "activity.set_index(activity['ActivityDate'], inplace=True)\n",
    "\n",
    "activity.head()"
   ]
  },
  {
   "cell_type": "markdown",
   "metadata": {},
   "source": [
    "## Feature Functions"
   ]
  },
  {
   "cell_type": "code",
   "execution_count": 3,
   "metadata": {},
   "outputs": [],
   "source": [
    "# Get user input for step goal\n",
    "def set_goal():\n",
    "    while True:\n",
    "        try:\n",
    "            goal = int(input('How many steps do you want to take each day? '))\n",
    "            print(f'Your goal is to take {format(goal, \",d\")} steps each day.')\n",
    "            return goal\n",
    "        except ValueError:\n",
    "            print('\\nPlease enter a number only.')"
   ]
  },
  {
   "cell_type": "code",
   "execution_count": 4,
   "metadata": {},
   "outputs": [],
   "source": [
    "# We may want to force all column names to be lowercase and same for inputs!\n",
    "def get_update(user_id, today, feature, goal):\n",
    "    \n",
    "    # Create filters\n",
    "    filtered = activity[activity.Id == user_id] #filter by user id\n",
    "    today_row = filtered.loc[today]             #filter by date\n",
    "    today_score = today_row.loc[feature]        #assign score for selected feature by day\n",
    "    \n",
    "    # Give today's update\n",
    "    if goal == today_score:\n",
    "        print(f'Congrats! You met your goal of {format(goal, \",d\")} steps today!')\n",
    "        print('')\n",
    "    elif goal < today_score:\n",
    "        print(f\"Congrats! You have taken {format(today_score, ',d')} steps today.\")\n",
    "        print(f\"That's {format(today_score - goal, ',d')} steps more than your daily goal of {format(goal, ',d')} steps!\")\n",
    "        print('')\n",
    "    else:\n",
    "        print(f'You need {format(goal - today_score, \",d\")} more steps to meet your daily goal of {format(goal, \",d\")} steps. You can do it!')\n",
    "        print('')\n",
    "              \n",
    "    # Verify whether the goal objective has been met in the previous days continuously\n",
    "    count = 0\n",
    "    for i in range(1, len(filtered)):\n",
    "        try:\n",
    "            back_date = pd.to_datetime(today) - dt.timedelta(days=i) #go i days back from today and assign to back_date\n",
    "            row_in_past = filtered.loc[back_date] #look for row X day before\n",
    "            past_score = row_in_past.loc[feature] #look for score X day before\n",
    "            if past_score >= goal:                \n",
    "                count += 1\n",
    "            else:\n",
    "                break\n",
    "        except:\n",
    "            pass\n",
    "    \n",
    "    if count > 1:\n",
    "        print(f'You have met your goal {count} days in a row. Keep the streak going!')\n",
    "        print('')\n",
    "    \n",
    "    # Suggest higher goal if goal met multiple consecutive days\n",
    "    if count >= 5:\n",
    "        print(f\"Let's update your goal.\")\n",
    "        print(f'A 1% increase would only be {format(int(goal * .01), \",d\")} more steps, for a total of {format(int(goal * 1.01), \",d\")} steps each day.')\n",
    "        while True:\n",
    "            try:\n",
    "                goal = int(input(f'What would you like your new goal to be? '))\n",
    "                print('')\n",
    "                print(f'Your new daily goal is {format(goal, \",d\")} steps.')\n",
    "                return goal\n",
    "            except ValueError:\n",
    "                print('\\nPlease enter a number only.')\n",
    "    else:\n",
    "        return goal"
   ]
  },
  {
   "cell_type": "code",
   "execution_count": 5,
   "metadata": {},
   "outputs": [],
   "source": [
    "def show_chart(user_id, goal):\n",
    "    plt.figure(figsize=(14,4))\n",
    "    plt.plot(activity[activity['Id'] == 1503960366]['TotalSteps'], color='teal', lw=3, label='Daily Steps')\n",
    "    plt.axhline(y=goal, color='yellowgreen', linestyle='-', lw=3, alpha=0.8, label='Current Step Goal')\n",
    "    plt.legend(fontsize=14)\n",
    "    plt.tight_layout();"
   ]
  },
  {
   "cell_type": "markdown",
   "metadata": {},
   "source": [
    "## Run Example"
   ]
  },
  {
   "cell_type": "markdown",
   "metadata": {},
   "source": [
    "**Set initial goal**"
   ]
  },
  {
   "cell_type": "code",
   "execution_count": 6,
   "metadata": {
    "scrolled": true
   },
   "outputs": [
    {
     "name": "stdout",
     "output_type": "stream",
     "text": [
      "How many steps do you want to take each day? 10000\n",
      "Your goal is to take 10,000 steps each day.\n"
     ]
    }
   ],
   "source": [
    "goal = set_goal()"
   ]
  },
  {
   "cell_type": "markdown",
   "metadata": {},
   "source": [
    "**Get update on goal**"
   ]
  },
  {
   "cell_type": "code",
   "execution_count": 7,
   "metadata": {},
   "outputs": [
    {
     "name": "stdout",
     "output_type": "stream",
     "text": [
      "Congrats! You have taken 11,181 steps today.\n",
      "That's 1,181 steps more than your daily goal of 10,000 steps!\n",
      "\n",
      "You have met your goal 7 days in a row. Keep the streak going!\n",
      "\n",
      "Let's update your goal.\n",
      "A 1% increase would only be 100 more steps, for a total of 10,100 steps each day.\n",
      "What would you like your new goal to be? 11000\n",
      "\n",
      "Your new daily goal is 11,000 steps.\n"
     ]
    }
   ],
   "source": [
    "goal = get_update(1503960366, '2016-04-29', 'TotalSteps', goal)"
   ]
  },
  {
   "cell_type": "markdown",
   "metadata": {},
   "source": [
    "**Get visualization of daily steps and current goal**"
   ]
  },
  {
   "cell_type": "code",
   "execution_count": 8,
   "metadata": {},
   "outputs": [
    {
     "data": {
      "image/png": "[encoded data removed]",
      "text/plain": [
       "<Figure size 1008x288 with 1 Axes>"
      ]
     },
     "metadata": {
      "needs_background": "light"
     },
     "output_type": "display_data"
    }
   ],
   "source": [
    "show_chart(1503960366, goal)"
   ]
  }
 ],
 "metadata": {
  "kernelspec": {
   "display_name": "Python 3",
   "language": "python",
   "name": "python3"
  },
  "language_info": {
   "codemirror_mode": {
    "name": "ipython",
    "version": 3
   },
   "file_extension": ".py",
   "mimetype": "text/x-python",
   "name": "python",
   "nbconvert_exporter": "python",
   "pygments_lexer": "ipython3",
   "version": "3.6.6"
  }
 },
 "nbformat": 4,
 "nbformat_minor": 2
}
